{
 "cells": [
  {
   "cell_type": "markdown",
   "id": "cdcd2ef7",
   "metadata": {},
   "source": [
    "## Compute Requirements\n",
    "Make sure you use an instance with at least 32G of memory and 100G of storage.\n",
    "\n",
    "To run evaluations we used `ml.r5.12xlarge` instance with 48 CPUs and 384G memory.\n",
    "A smaller instance can be used to run the same evaluations, for example, `ml.m5.4xlarge` with 16 CPUs and 64G memory.\n",
    "\n",
    "Please use notebook kernel with pytorch already installed. Using `conda_pytorch_p38` or `conda_pytorch_p36` will work. \n",
    "Install dependencies after selecting the kernel."
   ]
  },
  {
   "cell_type": "markdown",
   "id": "072e394a",
   "metadata": {},
   "source": [
    "# Install dependencies"
   ]
  },
  {
   "cell_type": "code",
   "execution_count": 3,
   "id": "b232140c",
   "metadata": {},
   "outputs": [
    {
     "name": "stdout",
     "output_type": "stream",
     "text": [
      "Note: you may need to restart the kernel to use updated packages.\n"
     ]
    }
   ],
   "source": [
    "%pip install -qU -r requirements.txt"
   ]
  },
  {
   "cell_type": "markdown",
   "id": "ab8ba808",
   "metadata": {},
   "source": [
    "# Download and unzip Kaggle dataset\n",
    "We use [IEEE-CIS Fraud Detection](https://www.kaggle.com/c/ieee-fraud-detection/data) dataset in our experiments. Make sure you download API token and place it in `~/.kaggle/kaggle.json` before downloading the dataset. Please refer to the [Kaggle API documentation](https://github.com/Kaggle/kaggle-api#api-credentials) for more details."
   ]
  },
  {
   "cell_type": "code",
   "execution_count": 11,
   "id": "8312b717",
   "metadata": {},
   "outputs": [
    {
     "name": "stdout",
     "output_type": "stream",
     "text": [
      "Downloading ieee-fraud-detection.zip to ./data/ieee-fraud-detection\n",
      " 99%|████████████████████████████████████████▌| 117M/118M [00:01<00:00, 100MB/s]\n",
      "100%|████████████████████████████████████████| 118M/118M [00:01<00:00, 74.3MB/s]\n"
     ]
    }
   ],
   "source": [
    "!kaggle competitions download -c ieee-fraud-detection -p ./data/ieee-fraud-detection/ --force"
   ]
  },
  {
   "cell_type": "code",
   "execution_count": 2,
   "id": "db79e693",
   "metadata": {},
   "outputs": [
    {
     "name": "stdout",
     "output_type": "stream",
     "text": [
      "Archive:  ./data/ieee-fraud-detection/ieee-fraud-detection.zip\n",
      "  inflating: ./data/ieee-fraud-detection/sample_submission.csv  \n",
      "  inflating: ./data/ieee-fraud-detection/test_identity.csv  \n",
      "  inflating: ./data/ieee-fraud-detection/test_transaction.csv  \n",
      "  inflating: ./data/ieee-fraud-detection/train_identity.csv  \n",
      "  inflating: ./data/ieee-fraud-detection/train_transaction.csv  \n"
     ]
    }
   ],
   "source": [
    "!unzip ./data/ieee-fraud-detection/ieee-fraud-detection.zip -d ./data/ieee-fraud-detection/"
   ]
  },
  {
   "cell_type": "markdown",
   "id": "7c6736dc",
   "metadata": {},
   "source": [
    "# Create training and test splits\n",
    "Fraud labels are only available for competition's training data. We sort transactions by timestamp (TransactionDT) column, and use first 80% of the competition's training data to train our models, and retain the last 20% of transactions for testing. We join transaction and identity tables into a single dataframe using TransactionID column. Note that not all of the transactions have identity information, so we are left with a total of 144,233 transactions. And, 115,386 transactions will be used to training, and 28,847 transactions will be used for testing."
   ]
  },
  {
   "cell_type": "code",
   "execution_count": 1,
   "id": "2ce3b6b7",
   "metadata": {},
   "outputs": [],
   "source": [
    "import numpy as np\n",
    "import pandas as pd"
   ]
  },
  {
   "cell_type": "code",
   "execution_count": 2,
   "id": "2414eb82",
   "metadata": {},
   "outputs": [],
   "source": [
    "df_identity = pd.read_csv('./data/ieee-fraud-detection/train_identity.csv')"
   ]
  },
  {
   "cell_type": "code",
   "execution_count": 3,
   "id": "733fb71a",
   "metadata": {},
   "outputs": [],
   "source": [
    "df_transaction = pd.read_csv('./data/ieee-fraud-detection/train_transaction.csv')"
   ]
  },
  {
   "cell_type": "code",
   "execution_count": 4,
   "id": "ce91e6e1",
   "metadata": {},
   "outputs": [],
   "source": [
    "df=pd.merge(df_identity, df_transaction, on='TransactionID', how='inner')"
   ]
  },
  {
   "cell_type": "code",
   "execution_count": 5,
   "id": "dfc0278b",
   "metadata": {},
   "outputs": [],
   "source": [
    "df.sort_values(by='TransactionDT', ascending=True, inplace=True)"
   ]
  },
  {
   "cell_type": "code",
   "execution_count": 6,
   "id": "818566c8",
   "metadata": {},
   "outputs": [],
   "source": [
    "n_total = len(df)\n",
    "n_train = int(n_total*0.8)\n",
    "n_test  = n_total - n_train"
   ]
  },
  {
   "cell_type": "code",
   "execution_count": 7,
   "id": "b2cb0796",
   "metadata": {},
   "outputs": [
    {
     "name": "stdout",
     "output_type": "stream",
     "text": [
      "Total transactions: 144233, training transactions: 115386, testing transaction: 28847\n"
     ]
    }
   ],
   "source": [
    "print(f\"Total transactions: {n_total}, training transactions: {n_train}, testing transaction: {n_test}\")"
   ]
  },
  {
   "cell_type": "code",
   "execution_count": 8,
   "id": "73edae6a",
   "metadata": {},
   "outputs": [],
   "source": [
    "df_train = df.head(n_train)\n",
    "df_test  = df.tail(n_test)"
   ]
  },
  {
   "cell_type": "code",
   "execution_count": 9,
   "id": "55a9209a",
   "metadata": {},
   "outputs": [],
   "source": [
    "df_train.to_parquet(\"./data/train.parquet\", index=False)\n",
    "df_test.to_parquet(\"./data/test.parquet\", index=False)"
   ]
  }
 ],
 "metadata": {
  "kernelspec": {
   "display_name": "conda_pytorch_p38",
   "language": "python",
   "name": "conda_pytorch_p38"
  },
  "language_info": {
   "codemirror_mode": {
    "name": "ipython",
    "version": 3
   },
   "file_extension": ".py",
   "mimetype": "text/x-python",
   "name": "python",
   "nbconvert_exporter": "python",
   "pygments_lexer": "ipython3",
   "version": "3.8.12"
  }
 },
 "nbformat": 4,
 "nbformat_minor": 5
}
