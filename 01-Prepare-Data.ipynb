{
 "cells": [
  {
   "cell_type": "markdown",
   "id": "0af7a1fe",
   "metadata": {
    "pycharm": {
     "name": "#%% md\n"
    }
   },
   "source": [
    "## Compute Requirements\n",
    "Make sure you use an instance with at least 32G of memory and 100G of storage.\n",
    "\n",
    "To run evaluations we used `ml.r5.12xlarge` instance with 48 CPUs and 384G memory.\n",
    "A smaller instance can be used to run the same evaluations, for example, `ml.m5.4xlarge` with 16 CPUs and 64G memory.\n"
   ]
  },
  {
   "cell_type": "markdown",
   "id": "df96460d",
   "metadata": {
    "pycharm": {
     "name": "#%% md\n"
    }
   },
   "source": [
    "# Install dependencies"
   ]
  },
  {
   "cell_type": "code",
   "execution_count": 1,
   "id": "869625b7",
   "metadata": {
    "pycharm": {
     "name": "#%%\n"
    }
   },
   "outputs": [
    {
     "name": "stdout",
     "output_type": "stream",
     "text": [
      "\n",
      "\u001B[1m[\u001B[0m\u001B[34;49mnotice\u001B[0m\u001B[1;39;49m]\u001B[0m\u001B[39;49m A new release of pip available: \u001B[0m\u001B[31;49m22.2.2\u001B[0m\u001B[39;49m -> \u001B[0m\u001B[32;49m22.3\u001B[0m\n",
      "\u001B[1m[\u001B[0m\u001B[34;49mnotice\u001B[0m\u001B[1;39;49m]\u001B[0m\u001B[39;49m To update, run: \u001B[0m\u001B[32;49mpip install --upgrade pip\u001B[0m\n",
      "Note: you may need to restart the kernel to use updated packages.\n"
     ]
    }
   ],
   "source": [
    "%pip install -qU -r requirements.txt"
   ]
  },
  {
   "cell_type": "markdown",
   "id": "8d94e974",
   "metadata": {
    "pycharm": {
     "name": "#%% md\n"
    }
   },
   "source": [
    "# Download and unzip Kaggle dataset\n",
    "We use [IEEE-CIS Fraud Detection](https://www.kaggle.com/c/ieee-fraud-detection/data) dataset."
   ]
  },
  {
   "cell_type": "code",
   "execution_count": 5,
   "id": "b1be25e9",
   "metadata": {
    "pycharm": {
     "name": "#%%\n"
    }
   },
   "outputs": [
    {
     "name": "stdout",
     "output_type": "stream",
     "text": [
      "Downloading ieee-fraud-detection.zip to ./data/ieee-fraud-detection\n",
      "100%|████████████████████████████████████████▉| 118M/118M [00:00<00:00, 155MB/s]\n",
      "100%|█████████████████████████████████████████| 118M/118M [00:00<00:00, 137MB/s]\n"
     ]
    }
   ],
   "source": [
    "!kaggle competitions download -c ieee-fraud-detection -p ./data/ieee-fraud-detection/"
   ]
  },
  {
   "cell_type": "code",
   "execution_count": 6,
   "id": "634fc60f",
   "metadata": {
    "pycharm": {
     "name": "#%%\n"
    }
   },
   "outputs": [
    {
     "name": "stdout",
     "output_type": "stream",
     "text": [
      "Archive:  ./data/ieee-fraud-detection/ieee-fraud-detection.zip\n",
      "  inflating: ./data/ieee-fraud-detection/sample_submission.csv  \n",
      "  inflating: ./data/ieee-fraud-detection/test_identity.csv  \n",
      "  inflating: ./data/ieee-fraud-detection/test_transaction.csv  \n",
      "  inflating: ./data/ieee-fraud-detection/train_identity.csv  \n",
      "  inflating: ./data/ieee-fraud-detection/train_transaction.csv  \n"
     ]
    }
   ],
   "source": [
    "!unzip ./data/ieee-fraud-detection/ieee-fraud-detection.zip -d ./data/ieee-fraud-detection/"
   ]
  },
  {
   "cell_type": "markdown",
   "id": "9c420c5f",
   "metadata": {
    "pycharm": {
     "name": "#%% md\n"
    }
   },
   "source": [
    "# Create training and test splits\n",
    "Fraud labels are only available for competition's training data. We sort transactions by timestamp (TransactionDT) column, and use first 80% of the competition's training data to train our models, and retain the last 20% of transactions for testing. We join transaction and identity tables into a single dataframe using TransactionID column. Note that not all of the transactions have identity information, so we are left with a total of 144,233 transactions. And, 115,386 transactions will be used to training, and 28,847 transactions will be used for testing."
   ]
  },
  {
   "cell_type": "code",
   "execution_count": 8,
   "id": "590c6806",
   "metadata": {
    "pycharm": {
     "name": "#%%\n"
    }
   },
   "outputs": [],
   "source": [
    "import numpy as np\n",
    "import pandas as pd"
   ]
  },
  {
   "cell_type": "code",
   "execution_count": 9,
   "id": "29afdf3e",
   "metadata": {
    "pycharm": {
     "name": "#%%\n"
    }
   },
   "outputs": [],
   "source": [
    "df_identity = pd.read_csv('./data/ieee-fraud-detection/train_identity.csv')"
   ]
  },
  {
   "cell_type": "code",
   "execution_count": 10,
   "id": "d6d2845d",
   "metadata": {
    "pycharm": {
     "name": "#%%\n"
    }
   },
   "outputs": [],
   "source": [
    "df_transaction = pd.read_csv('./data/ieee-fraud-detection/train_transaction.csv')"
   ]
  },
  {
   "cell_type": "code",
   "execution_count": 11,
   "id": "9fa8d0bd",
   "metadata": {
    "pycharm": {
     "name": "#%%\n"
    }
   },
   "outputs": [],
   "source": [
    "df=pd.merge(df_identity, df_transaction, on='TransactionID', how='inner')"
   ]
  },
  {
   "cell_type": "code",
   "execution_count": 12,
   "id": "dc9eeca6",
   "metadata": {
    "pycharm": {
     "name": "#%%\n"
    }
   },
   "outputs": [],
   "source": [
    "df.sort_values(by='TransactionDT', ascending=True, inplace=True)"
   ]
  },
  {
   "cell_type": "code",
   "execution_count": 13,
   "id": "e5532cfe",
   "metadata": {
    "pycharm": {
     "name": "#%%\n"
    }
   },
   "outputs": [],
   "source": [
    "n_total = len(df)\n",
    "n_train = int(n_total*0.8)\n",
    "n_test  = n_total - n_train"
   ]
  },
  {
   "cell_type": "code",
   "execution_count": 14,
   "id": "7f7006d6",
   "metadata": {
    "pycharm": {
     "name": "#%%\n"
    }
   },
   "outputs": [
    {
     "name": "stdout",
     "output_type": "stream",
     "text": [
      "Total transactions: 144233, training transactions: 115386, testing transaction: 28847\n"
     ]
    }
   ],
   "source": [
    "print(f\"Total transactions: {n_total}, training transactions: {n_train}, testing transaction: {n_test}\")"
   ]
  },
  {
   "cell_type": "code",
   "execution_count": 15,
   "id": "fc1f8145",
   "metadata": {
    "pycharm": {
     "name": "#%%\n"
    }
   },
   "outputs": [],
   "source": [
    "df_train = df.head(n_train)\n",
    "df_test  = df.tail(n_test)"
   ]
  },
  {
   "cell_type": "code",
   "execution_count": 16,
   "id": "039bac17",
   "metadata": {
    "pycharm": {
     "name": "#%%\n"
    }
   },
   "outputs": [],
   "source": [
    "df_train.to_parquet(\"./data/train.parquet\", index=False)\n",
    "df_test.to_parquet(\"./data/test.parquet\", index=False)"
   ]
  },
  {
   "cell_type": "code",
   "execution_count": 88,
   "id": "594479fc",
   "metadata": {
    "pycharm": {
     "name": "#%%\n"
    }
   },
   "outputs": [
    {
     "data": {
      "text/html": [
       "<style type=\"text/css\">\n",
       "</style>\n",
       "<table id=\"T_1d83c\">\n",
       "  <thead>\n",
       "    <tr>\n",
       "      <th id=\"T_1d83c_level0_col0\" class=\"col_heading level0 col0\" >TransactionID</th>\n",
       "      <th id=\"T_1d83c_level0_col1\" class=\"col_heading level0 col1\" >isFraud</th>\n",
       "      <th id=\"T_1d83c_level0_col2\" class=\"col_heading level0 col2\" >TransactionDT</th>\n",
       "      <th id=\"T_1d83c_level0_col3\" class=\"col_heading level0 col3\" >ProductCD</th>\n",
       "      <th id=\"T_1d83c_level0_col4\" class=\"col_heading level0 col4\" >P_emaildomain</th>\n",
       "      <th id=\"T_1d83c_level0_col5\" class=\"col_heading level0 col5\" >TransactionAmt</th>\n",
       "      <th id=\"T_1d83c_level0_col6\" class=\"col_heading level0 col6\" >DeviceType</th>\n",
       "    </tr>\n",
       "  </thead>\n",
       "  <tbody>\n",
       "    <tr>\n",
       "      <td id=\"T_1d83c_row0_col0\" class=\"data row0 col0\" >3051657</td>\n",
       "      <td id=\"T_1d83c_row0_col1\" class=\"data row0 col1\" >0</td>\n",
       "      <td id=\"T_1d83c_row0_col2\" class=\"data row0 col2\" >1458799</td>\n",
       "      <td id=\"T_1d83c_row0_col3\" class=\"data row0 col3\" >H</td>\n",
       "      <td id=\"T_1d83c_row0_col4\" class=\"data row0 col4\" >msn.com</td>\n",
       "      <td id=\"T_1d83c_row0_col5\" class=\"data row0 col5\" >25.00</td>\n",
       "      <td id=\"T_1d83c_row0_col6\" class=\"data row0 col6\" >mobile</td>\n",
       "    </tr>\n",
       "    <tr>\n",
       "      <td id=\"T_1d83c_row1_col0\" class=\"data row1 col0\" >3057708</td>\n",
       "      <td id=\"T_1d83c_row1_col1\" class=\"data row1 col1\" >1</td>\n",
       "      <td id=\"T_1d83c_row1_col2\" class=\"data row1 col2\" >1581324</td>\n",
       "      <td id=\"T_1d83c_row1_col3\" class=\"data row1 col3\" >C</td>\n",
       "      <td id=\"T_1d83c_row1_col4\" class=\"data row1 col4\" >yahoo.com</td>\n",
       "      <td id=\"T_1d83c_row1_col5\" class=\"data row1 col5\" >90.48</td>\n",
       "      <td id=\"T_1d83c_row1_col6\" class=\"data row1 col6\" >mobile</td>\n",
       "    </tr>\n",
       "    <tr>\n",
       "      <td id=\"T_1d83c_row2_col0\" class=\"data row2 col0\" >3090795</td>\n",
       "      <td id=\"T_1d83c_row2_col1\" class=\"data row2 col1\" >0</td>\n",
       "      <td id=\"T_1d83c_row2_col2\" class=\"data row2 col2\" >2067466</td>\n",
       "      <td id=\"T_1d83c_row2_col3\" class=\"data row2 col3\" >H</td>\n",
       "      <td id=\"T_1d83c_row2_col4\" class=\"data row2 col4\" >gmail.com</td>\n",
       "      <td id=\"T_1d83c_row2_col5\" class=\"data row2 col5\" >50.00</td>\n",
       "      <td id=\"T_1d83c_row2_col6\" class=\"data row2 col6\" >desktop</td>\n",
       "    </tr>\n",
       "    <tr>\n",
       "      <td id=\"T_1d83c_row3_col0\" class=\"data row3 col0\" >3094044</td>\n",
       "      <td id=\"T_1d83c_row3_col1\" class=\"data row3 col1\" >0</td>\n",
       "      <td id=\"T_1d83c_row3_col2\" class=\"data row3 col2\" >2132259</td>\n",
       "      <td id=\"T_1d83c_row3_col3\" class=\"data row3 col3\" >R</td>\n",
       "      <td id=\"T_1d83c_row3_col4\" class=\"data row3 col4\" >gmail.com</td>\n",
       "      <td id=\"T_1d83c_row3_col5\" class=\"data row3 col5\" >100.00</td>\n",
       "      <td id=\"T_1d83c_row3_col6\" class=\"data row3 col6\" >desktop</td>\n",
       "    </tr>\n",
       "    <tr>\n",
       "      <td id=\"T_1d83c_row4_col0\" class=\"data row4 col0\" >3185488</td>\n",
       "      <td id=\"T_1d83c_row4_col1\" class=\"data row4 col1\" >1</td>\n",
       "      <td id=\"T_1d83c_row4_col2\" class=\"data row4 col2\" >4486165</td>\n",
       "      <td id=\"T_1d83c_row4_col3\" class=\"data row4 col3\" >H</td>\n",
       "      <td id=\"T_1d83c_row4_col4\" class=\"data row4 col4\" >gmail.com</td>\n",
       "      <td id=\"T_1d83c_row4_col5\" class=\"data row4 col5\" >150.00</td>\n",
       "      <td id=\"T_1d83c_row4_col6\" class=\"data row4 col6\" >desktop</td>\n",
       "    </tr>\n",
       "    <tr>\n",
       "      <td id=\"T_1d83c_row5_col0\" class=\"data row5 col0\" >3253881</td>\n",
       "      <td id=\"T_1d83c_row5_col1\" class=\"data row5 col1\" >0</td>\n",
       "      <td id=\"T_1d83c_row5_col2\" class=\"data row5 col2\" >6464196</td>\n",
       "      <td id=\"T_1d83c_row5_col3\" class=\"data row5 col3\" >R</td>\n",
       "      <td id=\"T_1d83c_row5_col4\" class=\"data row5 col4\" >gmail.com</td>\n",
       "      <td id=\"T_1d83c_row5_col5\" class=\"data row5 col5\" >100.00</td>\n",
       "      <td id=\"T_1d83c_row5_col6\" class=\"data row5 col6\" >desktop</td>\n",
       "    </tr>\n",
       "    <tr>\n",
       "      <td id=\"T_1d83c_row6_col0\" class=\"data row6 col0\" >3288988</td>\n",
       "      <td id=\"T_1d83c_row6_col1\" class=\"data row6 col1\" >1</td>\n",
       "      <td id=\"T_1d83c_row6_col2\" class=\"data row6 col2\" >7459023</td>\n",
       "      <td id=\"T_1d83c_row6_col3\" class=\"data row6 col3\" >C</td>\n",
       "      <td id=\"T_1d83c_row6_col4\" class=\"data row6 col4\" >hotmail.com</td>\n",
       "      <td id=\"T_1d83c_row6_col5\" class=\"data row6 col5\" >20.84</td>\n",
       "      <td id=\"T_1d83c_row6_col6\" class=\"data row6 col6\" >mobile</td>\n",
       "    </tr>\n",
       "    <tr>\n",
       "      <td id=\"T_1d83c_row7_col0\" class=\"data row7 col0\" >3292756</td>\n",
       "      <td id=\"T_1d83c_row7_col1\" class=\"data row7 col1\" >0</td>\n",
       "      <td id=\"T_1d83c_row7_col2\" class=\"data row7 col2\" >7593027</td>\n",
       "      <td id=\"T_1d83c_row7_col3\" class=\"data row7 col3\" >R</td>\n",
       "      <td id=\"T_1d83c_row7_col4\" class=\"data row7 col4\" >gmail.com</td>\n",
       "      <td id=\"T_1d83c_row7_col5\" class=\"data row7 col5\" >75.00</td>\n",
       "      <td id=\"T_1d83c_row7_col6\" class=\"data row7 col6\" >mobile</td>\n",
       "    </tr>\n",
       "  </tbody>\n",
       "</table>\n"
      ],
      "text/plain": [
       "<pandas.io.formats.style.Styler at 0x7f658bedb070>"
      ]
     },
     "execution_count": 88,
     "metadata": {},
     "output_type": "execute_result"
    }
   ],
   "source": [
    "### sample a few transactions to be used in figure\n",
    "df= df_train[['TransactionID', 'isFraud', 'TransactionDT', 'ProductCD', 'P_emaildomain', 'TransactionAmt', 'DeviceType']]\n",
    "\n",
    "pd.concat([df.query('isFraud == 0').sample(5), df.query('isFraud == 1').sample(3)]).dropna().sort_values('TransactionDT').style.format(precision=2).hide(axis=\"index\")"
   ]
  }
 ],
 "metadata": {
  "kernelspec": {
   "display_name": "conda_python3",
   "language": "python",
   "name": "conda_python3"
  },
  "language_info": {
   "codemirror_mode": {
    "name": "ipython",
    "version": 3
   },
   "file_extension": ".py",
   "mimetype": "text/x-python",
   "name": "python",
   "nbconvert_exporter": "python",
   "pygments_lexer": "ipython3",
   "version": "3.8.12"
  }
 },
 "nbformat": 4,
 "nbformat_minor": 5
}