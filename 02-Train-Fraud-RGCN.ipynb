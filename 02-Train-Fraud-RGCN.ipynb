{
 "cells": [
  {
   "cell_type": "markdown",
   "id": "6cf1975f",
   "metadata": {},
   "source": [
    "# Install DGL dependency"
   ]
  },
  {
   "cell_type": "markdown",
   "id": "ed4f6a86",
   "metadata": {},
   "source": [
    "Please use notebook kernel with pytorch already installed. Using `conda_pytorch_p38` or `conda_pytorch_p36` will work. \n",
    "Install DGL dependency after selecting the kernel."
   ]
  },
  {
   "cell_type": "code",
   "execution_count": 26,
   "id": "99c8771a",
   "metadata": {},
   "outputs": [
    {
     "name": "stdout",
     "output_type": "stream",
     "text": [
      "\u001b[33mWARNING: You are using pip version 22.0.4; however, version 22.3.1 is available.\n",
      "You should consider upgrading via the '/home/ec2-user/anaconda3/envs/pytorch_p38/bin/python -m pip install --upgrade pip' command.\u001b[0m\u001b[33m\n",
      "\u001b[0mNote: you may need to restart the kernel to use updated packages.\n"
     ]
    }
   ],
   "source": [
    "%pip install -q dgl"
   ]
  },
  {
   "cell_type": "code",
   "execution_count": 1,
   "id": "a068346c",
   "metadata": {},
   "outputs": [],
   "source": [
    "import numpy as np\n",
    "import pandas as pd\n",
    "from sklearn.metrics import roc_auc_score\n",
    "\n",
    "import pandas as pd\n",
    "from fgnn.fraud_detector import FraudRGCN"
   ]
  },
  {
   "cell_type": "markdown",
   "id": "84cd7014",
   "metadata": {},
   "source": [
    "# Load train and test splits"
   ]
  },
  {
   "cell_type": "code",
   "execution_count": 2,
   "id": "dc1953e5",
   "metadata": {},
   "outputs": [],
   "source": [
    "df_train = pd.read_parquet('./data/train.parquet')"
   ]
  },
  {
   "cell_type": "code",
   "execution_count": 3,
   "id": "c04f6352",
   "metadata": {},
   "outputs": [],
   "source": [
    "df_test = pd.read_parquet('./data/test.parquet')"
   ]
  },
  {
   "cell_type": "markdown",
   "id": "7d87a402",
   "metadata": {},
   "source": [
    "# Set model parameters overloading defaults\n",
    "\n",
    "We set parameters to match model parameters used in this [blog post](https://aws.amazon.com/blogs/machine-learning/build-a-gnn-based-real-time-fraud-detection-solution-using-amazon-sagemaker-amazon-neptune-and-the-deep-graph-library/)."
   ]
  },
  {
   "cell_type": "code",
   "execution_count": 22,
   "id": "c37bc71e",
   "metadata": {},
   "outputs": [],
   "source": [
    "params = {\n",
    "    'embedding_size': 64,\n",
    "    'n_layers': 2,\n",
    "    'n_epochs': 150,\n",
    "    'n_hidden': 16,\n",
    "    'dropout': 0.2,\n",
    "    'weight_decay': 5e-05,\n",
    "    'lr': 0.01,\n",
    "}"
   ]
  },
  {
   "cell_type": "code",
   "execution_count": 11,
   "id": "f55ddc6d",
   "metadata": {},
   "outputs": [
    {
     "data": {
      "text/plain": [
       "{'num_gpus': 0,\n",
       " 'embedding_size': 128,\n",
       " 'n_layers': 2,\n",
       " 'n_epochs': 50,\n",
       " 'n_hidden': 16,\n",
       " 'dropout': 0.2,\n",
       " 'weight_decay': 5e-06,\n",
       " 'lr': 0.01,\n",
       " 'target_col': 'TransactionID',\n",
       " 'node_cols': 'card1,card2,card3,card4,card5,card6,ProductCD,addr1,addr2,P_emaildomain,R_emaildomain',\n",
       " 'label_col': 'isFraud',\n",
       " 'cat_cols': 'M1,M2,M3,M4,M5,M6,M7,M8,M9,DeviceType,DeviceInfo,id_12,id_13,id_14,id_15,id_16,id_17,id_18,id_19,id_20,id_21,id_22,id_23,id_24,id_25,id_26,id_27,id_28,id_29,id_30,id_31,id_32,id_33,id_34,id_35,id_36,id_37,id_38',\n",
       " 'num_cols': 'TransactionAmt,dist1,dist2,id_01,id_02,id_03,id_04,id_05,id_06,id_07,id_08,id_09,id_10,id_11,C1,C2,C3,C4,C5,C6,C7,C8,C9,C10,C11,C12,C13,C14,D1,D2,D3,D4,D5,D6,D7,D8,D9,D10,D11,D12,D13,D14,D15,V1,V2,V3,V4,V5,V6,V7,V8,V9,V10,V11,V12,V13,V14,V15,V16,V17,V18,V19,V20,V21,V22,V23,V24,V25,V26,V27,V28,V29,V30,V31,V32,V33,V34,V35,V36,V37,V38,V39,V40,V41,V42,V43,V44,V45,V46,V47,V48,V49,V50,V51,V52,V53,V54,V55,V56,V57,V58,V59,V60,V61,V62,V63,V64,V65,V66,V67,V68,V69,V70,V71,V72,V73,V74,V75,V76,V77,V78,V79,V80,V81,V82,V83,V84,V85,V86,V87,V88,V89,V90,V91,V92,V93,V94,V95,V96,V97,V98,V99,V100,V101,V102,V103,V104,V105,V106,V107,V108,V109,V110,V111,V112,V113,V114,V115,V116,V117,V118,V119,V120,V121,V122,V123,V124,V125,V126,V127,V128,V129,V130,V131,V132,V133,V134,V135,V136,V137,V138,V139,V140,V141,V142,V143,V144,V145,V146,V147,V148,V149,V150,V151,V152,V153,V154,V155,V156,V157,V158,V159,V160,V161,V162,V163,V164,V165,V166,V167,V168,V169,V170,V171,V172,V173,V174,V175,V176,V177,V178,V179,V180,V181,V182,V183,V184,V185,V186,V187,V188,V189,V190,V191,V192,V193,V194,V195,V196,V197,V198,V199,V200,V201,V202,V203,V204,V205,V206,V207,V208,V209,V210,V211,V212,V213,V214,V215,V216,V217,V218,V219,V220,V221,V222,V223,V224,V225,V226,V227,V228,V229,V230,V231,V232,V233,V234,V235,V236,V237,V238,V239,V240,V241,V242,V243,V244,V245,V246,V247,V248,V249,V250,V251,V252,V253,V254,V255,V256,V257,V258,V259,V260,V261,V262,V263,V264,V265,V266,V267,V268,V269,V270,V271,V272,V273,V274,V275,V276,V277,V278,V279,V280,V281,V282,V283,V284,V285,V286,V287,V288,V289,V290,V291,V292,V293,V294,V295,V296,V297,V298,V299,V300,V301,V302,V303,V304,V305,V306,V307,V308,V309,V310,V311,V312,V313,V314,V315,V316,V317,V318,V319,V320,V321,V322,V323,V324,V325,V326,V327,V328,V329,V330,V331,V332,V333,V334,V335,V336,V337,V338,V339',\n",
       " 'class_weight': 1.0}"
      ]
     },
     "execution_count": 11,
     "metadata": {},
     "output_type": "execute_result"
    }
   ],
   "source": [
    "### print default model parameters\n",
    "FraudRGCN()._default_params"
   ]
  },
  {
   "cell_type": "markdown",
   "id": "117c6552",
   "metadata": {},
   "source": [
    "# Train model in transductive mode\n",
    "We train model five times and save trained models in `model/` directory. Note that to train the model in transductive mode, we combine train and test transactions and pass combined DataFrame to the `train_fg` method. We also pass `test_mask` that identifies test transactions with `True` values. In transductive mode, test labels will be masked out during training, but test samples will be used to construct nodes and features.\n",
    "\n",
    "Training five models will take over half hour to complete."
   ]
  },
  {
   "cell_type": "code",
   "execution_count": 15,
   "id": "51ab9187",
   "metadata": {
    "scrolled": true
   },
   "outputs": [],
   "source": [
    "import warnings\n",
    "### disable CUDA-related warnings from torch library \n",
    "warnings.filterwarnings(\"ignore\", category=UserWarning)"
   ]
  },
  {
   "cell_type": "code",
   "execution_count": null,
   "id": "6cbeff93",
   "metadata": {
    "scrolled": true
   },
   "outputs": [],
   "source": [
    "test_mask = [False]*len(df_train) + [True]*len(df_test)\n",
    "for ii in range(1,6):\n",
    "    fd = FraudRGCN()\n",
    "    fd.train_fg(pd.concat([df_train, df_test], ignore_index=True), params=params, test_mask=test_mask)\n",
    "    fd.save_fg(f\"model/transductive_{ii}\")"
   ]
  },
  {
   "cell_type": "markdown",
   "id": "614f66c7",
   "metadata": {},
   "source": [
    "# Train model in inductive mode\n",
    "\n",
    "We train model five times and save them to `model/` directory. Note that only training transactions are passed to the model for training. \n",
    "\n",
    "Training five models will take over half hour to complete."
   ]
  },
  {
   "cell_type": "code",
   "execution_count": null,
   "id": "76a870a9",
   "metadata": {
    "scrolled": true
   },
   "outputs": [],
   "source": [
    "for ii in range(1,6):\n",
    "    fd = FraudRGCN()\n",
    "    fd.train_fg(df_train, params=params)\n",
    "    fd.save_fg(f\"model/inductive_{ii}\")"
   ]
  },
  {
   "cell_type": "code",
   "execution_count": null,
   "id": "f9a3b600",
   "metadata": {},
   "outputs": [],
   "source": []
  }
 ],
 "metadata": {
  "kernelspec": {
   "display_name": "conda_pytorch_p38",
   "language": "python",
   "name": "conda_pytorch_p38"
  },
  "language_info": {
   "codemirror_mode": {
    "name": "ipython",
    "version": 3
   },
   "file_extension": ".py",
   "mimetype": "text/x-python",
   "name": "python",
   "nbconvert_exporter": "python",
   "pygments_lexer": "ipython3",
   "version": "3.8.12"
  }
 },
 "nbformat": 4,
 "nbformat_minor": 5
}
